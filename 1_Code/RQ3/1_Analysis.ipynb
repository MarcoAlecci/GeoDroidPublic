{
 "cells": [
  {
   "cell_type": "markdown",
   "metadata": {},
   "source": [
    "## 🧪 RQ3: Analysis\n",
    "\n",
    "Analyze Apps with same pkgName but downloaded from different Locations\n",
    "\n",
    "Apps should be placed in a folder named \"0_Data\" in different subfolders using the name of the locations i.e. \"Luxembourg\", \"Santiago\", ..."
   ]
  },
  {
   "cell_type": "code",
   "execution_count": null,
   "metadata": {},
   "outputs": [],
   "source": [
    "# Imports\n",
    "from   loguru     import logger\n",
    "from   dotenv     import load_dotenv\n",
    "import pandas     as pd\n",
    "import datetime\n",
    "import hashlib\n",
    "import os\n",
    "import gc\n",
    "\n",
    "# Custom Imports\n",
    "import sys\n",
    "sys.path.append('../')\n",
    "import AppUtils \t\n",
    "import PairwiseAnalysisUtils"
   ]
  },
  {
   "cell_type": "markdown",
   "metadata": {},
   "source": [
    "##### Parameters"
   ]
  },
  {
   "cell_type": "code",
   "execution_count": null,
   "metadata": {},
   "outputs": [],
   "source": [
    "TMP_PATH = \"../../0_Data/TMP/\""
   ]
  },
  {
   "cell_type": "markdown",
   "metadata": {},
   "source": [
    "#### Initialization"
   ]
  },
  {
   "cell_type": "code",
   "execution_count": null,
   "metadata": {},
   "outputs": [],
   "source": [
    "print(\"⚡ START: {} ⚡\".format(datetime.datetime.now().strftime(\"%Y-%m-%d %H:%M:%S\")))\n",
    "initTime = datetime.datetime.now()"
   ]
  },
  {
   "cell_type": "code",
   "execution_count": null,
   "metadata": {},
   "outputs": [],
   "source": [
    "# Create TMP Folder\n",
    "if not os.path.exists(TMP_PATH):\n",
    "\tos.makedirs(TMP_PATH)\n",
    "\tprint(\"--- 📁🆕 Folder created       : {}\\n\".format(TMP_PATH))\n",
    "else:\n",
    "\tprint(\"--- 📁✅ Folder already exists: {}\\n\".format(TMP_PATH))"
   ]
  },
  {
   "cell_type": "code",
   "execution_count": null,
   "metadata": {},
   "outputs": [],
   "source": [
    "# Load .env Info\n",
    "load_dotenv()"
   ]
  },
  {
   "cell_type": "code",
   "execution_count": null,
   "metadata": {},
   "outputs": [],
   "source": [
    "# Disable root logging for AndroGuard\n",
    "logger.remove() "
   ]
  },
  {
   "cell_type": "markdown",
   "metadata": {},
   "source": [
    "#### 📥 1] Load Apps and check"
   ]
  },
  {
   "cell_type": "code",
   "execution_count": null,
   "metadata": {},
   "outputs": [],
   "source": [
    "# Where apps are located\n",
    "DATA_PATH = \"./0_Data/\"\n",
    "\n",
    "# Location List\n",
    "LOCATION_LIST = ['LosAngeles', 'Santiago', 'Tokyo', 'Luxembourg', 'TelAviv', 'Sydney', 'Johannesburg']\n",
    "\n",
    "# Results Path\n",
    "RESULTS_PATH = \"./1_Results/\""
   ]
  },
  {
   "cell_type": "code",
   "execution_count": null,
   "metadata": {},
   "outputs": [],
   "source": [
    "print(\"--- ⭕ [START] Hash Check for Apps\")\n",
    "print(\"--- ⏳ Start Time: {}\\n\".format(datetime.datetime.now().strftime(\"%Y-%m-%d %H:%M:%S\")))\n",
    "\n",
    "# To store the apps with hash mismatch\n",
    "allCombinationsDict = {}\n",
    "\n",
    "# For each location combination, run the analysis\n",
    "for i, location1 in enumerate(LOCATION_LIST):\n",
    "\tfor location2 in LOCATION_LIST[i+1:]:\n",
    "\n",
    "\t\tfolderLocation1 = os.path.join(DATA_PATH, location1 + \"Apps/\")\n",
    "\t\tfolderLocation2 = os.path.join(DATA_PATH, location2 + \"Apps/\")\n",
    "\n",
    "\t\tprint(\"--- 🌍 Location 1         : {}\".format(location1))\n",
    "\t\tprint(\"--- 📁 Folder Location 1  : {}\".format(folderLocation1))\n",
    "\t\tprint(\"--- 🌍 Location 2         : {}\".format(location2))\n",
    "\t\tprint(\"--- 📁 Folder Location 2  : {}\".format(folderLocation2))\n",
    "\n",
    "\t\t# Get matching subfolders (pkg names)\n",
    "\t\tpkgNameList = []\n",
    "\t\tif folderLocation1 and folderLocation2:\n",
    "\t\t\tsubfolders1 = set(os.listdir(folderLocation1))\n",
    "\t\t\tsubfolders2 = set(os.listdir(folderLocation2))\n",
    "\t\t\tpkgNameList = list(subfolders1.intersection(subfolders2))\n",
    "\t\tprint(\"\\n--- #️⃣ Matching subfolders     : {}\".format(len(pkgNameList)))\n",
    "\n",
    "\t\t# Order the list of package names\n",
    "\t\tpkgNameList.sort()\n",
    "\n",
    "\t\t# Check Hash\n",
    "\t\tappsDictList = []\n",
    "\t\tfor pkgName in pkgNameList:\n",
    "\t\t\t\n",
    "\t\t\ttry:\n",
    "\t\t\t\tapkPath1 = os.path.join(folderLocation1, pkgName, pkgName + \".apk\")\n",
    "\t\t\t\tapkPath2 = os.path.join(folderLocation2, pkgName, pkgName + \".apk\")\n",
    "\n",
    "\t\t\t\twith open(apkPath1, \"rb\") as f1, open(apkPath2, \"rb\") as f2:\n",
    "\t\t\t\t\thash1 = hashlib.sha256(f1.read()).hexdigest()\n",
    "\t\t\t\t\thash2 = hashlib.sha256(f2.read()).hexdigest()\n",
    "\n",
    "\t\t\t\t\tif hash1 != hash2:\n",
    "\t\t\t\t\t\t# print(\"--- ❗ Hash mismatch for {}:\".format(pkgName))\n",
    "\t\t\t\t\t\t# print(\"--- {} hash: {}\".format(location1, hash1))\n",
    "\t\t\t\t\t\t# print(\"--- {} hash: {}\".format(location2, hash2))\n",
    "\n",
    "\t\t\t\t\t\t# Create a dictionary for the app and appeend it to the list\n",
    "\t\t\t\t\t\tappsDict = {\n",
    "\t\t\t\t\t\t\tlocation1: {\n",
    "\t\t\t\t\t\t\t\t\"id\"\t\t: location1 + \"_\" + pkgName,\n",
    "\t\t\t\t\t\t\t\t\"path\"\t\t: os.path.join(folderLocation1, pkgName, pkgName + \".apk\"),\n",
    "\t\t\t\t\t\t\t\t\"pkgName\"\t: pkgName\n",
    "\t\t\t\t\t\t\t},\n",
    "\t\t\t\t\t\t\tlocation2: {\n",
    "\t\t\t\t\t\t\t\t\"id\"\t\t: location2 + \"_\" + pkgName,\n",
    "\t\t\t\t\t\t\t\t\"path\"\t\t: os.path.join(folderLocation2, pkgName, pkgName + \".apk\"),\n",
    "\t\t\t\t\t\t\t\t\"pkgName\"\t: pkgName\n",
    "\t\t\t\t\t\t\t}\n",
    "\t\t\t\t\t\t}\n",
    "\t\t\t\t\t\tappsDictList.append(appsDict)\n",
    "\n",
    "\t\t\t\t\telse:\n",
    "\t\t\t\t\t\t#print(\"--- ✅ Hash match for {}\".format(pkgName))\n",
    "\t\t\t\t\t\tcontinue\n",
    "\t\t\t\t\t\n",
    "\t\t\texcept FileNotFoundError as e:\n",
    "\t\t\t\tprint(\"--- ❗ File not found: {}\".format(e))\n",
    "\t\t\t\tcontinue\n",
    "\n",
    "\t\tprint(\"--- #️⃣ Apps with hash mismatch : {}\".format(len(appsDictList)))\n",
    "\n",
    "\t\t# Save the apps with hash mismatch to a dict\n",
    "\t\tdictKey = location1 + \"_\" + location2\n",
    "\t\tallCombinationsDict[dictKey] = appsDictList\n",
    "\n",
    "\t\tprint(\"\\n\" + \"---\"*20 + \"\\n\")\n",
    "\n",
    "print(\"\\n--- ⭕ [END] Hash Check for Apps\")\n",
    "print(\"--- ⏳ End Time   : {}\".format(datetime.datetime.now().strftime(\"%Y-%m-%d %H:%M:%S\")))\n",
    "print(\"--- ⏳ Total Time : {}\".format(datetime.datetime.now() - initTime))\n",
    "print(\"\\n\" + \"===\"*25 + \"\\n\")"
   ]
  },
  {
   "cell_type": "markdown",
   "metadata": {},
   "source": [
    "#### 🧪 2] Analysis"
   ]
  },
  {
   "cell_type": "code",
   "execution_count": null,
   "metadata": {},
   "outputs": [],
   "source": [
    "# print(allCombinationsDict)"
   ]
  },
  {
   "cell_type": "code",
   "execution_count": null,
   "metadata": {},
   "outputs": [],
   "source": [
    "print(\"--- ⭕ [START] Pairwise Analysis\")\n",
    "print(\"--- ⏳ Start Time: {}\\n\".format(datetime.datetime.now().strftime(\"%Y-%m-%d %H:%M:%S\")))\n",
    "\n",
    "# Results\n",
    "results = []\n",
    "\n",
    "# Print all keys and values in allCombinationsDict\n",
    "for key, value in allCombinationsDict.items():\n",
    "\tlocation1, location2 = key.split(\"_\")\n",
    "\tprint(\"--- 🌍 Location 1  : {}\".format(location1))\n",
    "\tprint(\"--- 🌍 Location 2  : {}\".format(location2))\n",
    "\n",
    "\t# Save the results to a CSV file\n",
    "\tappsDictList = value\n",
    "\tprint(\"--- #️⃣ Apps        : {}\".format(len(appsDictList)))\n",
    "\n",
    "\tfor idx, appPair in enumerate(appsDictList):\n",
    "\t\tprint(\"\\n--- 🔄 Analysis            :  {} out of {}\\n\".format(idx, len(appsDictList)))\n",
    "\t\n",
    "\t\t# Get info and build the app objects\n",
    "\t\tapp1Info = appPair[location1]\n",
    "\t\tapp2Info = appPair[location2]\n",
    "\n",
    "\t\t# Get the package name\n",
    "\t\tpkgName = app1Info[\"pkgName\"]\n",
    "\t\tprint(\"--- 📦 Package Name        : {}\".format(pkgName))\n",
    "\n",
    "\t\t# Create App objects only when needed\n",
    "\t\tlocation1App = AppUtils.App(app1Info[\"id\"], pkgName, TMP_PATH, app1Info[\"path\"])\n",
    "\t\tlocation2App = AppUtils.App(app2Info[\"id\"], pkgName, TMP_PATH, app2Info[\"path\"])\n",
    "\n",
    "\t\t# Create Analysis object\n",
    "\t\tanalysis = PairwiseAnalysisUtils.PairwiseAnalysis(location1App, location2App)\n",
    "\n",
    "\t\ttry:\n",
    "\t\t\t# Analysis Phases\n",
    "\t\t\tanalysis.runAnalysisSetup()\n",
    "\t\t\tanalysis.runExtraction()\n",
    "\t\t\tanalysis.runComparison(silentMode=False)\n",
    "\t\t\tanalysis.runScoresComputation()\n",
    "\n",
    "\t\t\t# Get scores\n",
    "\t\t\toverallScore = analysis.scores[\"overallScore\"]\n",
    "\t\t\tscoreColumns = {\"Score_{}\".format(k): v for k, v in analysis.scores.items()}\n",
    "\n",
    "\t\t\t# Store results\n",
    "\t\t\tresults.append({\n",
    "\t\t\t\t\t\"pkgName\": pkgName,\n",
    "\t\t\t\t\t\"location1\": location1,\n",
    "\t\t\t\t\t\"location2\": location2,\n",
    "\t\t\t\t\t\"overallScore\": overallScore,\n",
    "\t\t\t\t\t**scoreColumns\n",
    "\t\t\t})\n",
    "\t\t\tprint(\"--- ✅ [Success] Finished  : {}\".format(pkgName))\t\n",
    "\n",
    "\t\texcept Exception as e:\n",
    "\t\t\tprint(\"--- ❌ [Error]   Analyzing : {}\".format(pkgName, e))\t\n",
    "\n",
    "\t\t\t# Delete\n",
    "\t\t\tanalysis.runCleaning()\n",
    "\t\t\t\n",
    "\t\t\t# test\n",
    "\t\t\t# break\n",
    "\n",
    "\t\t\tcontinue\n",
    "\t\t\t\n",
    "\t\tfinally:\n",
    "\t\t\t# To use JSON Intermediate files\n",
    "\t\t\tanalysis.runCleaning()\n",
    "\n",
    "\t\t\t# Memory cleanup\n",
    "\t\t\tdel location1App, location2App, analysis\n",
    "\t\t\tgc.collect()\n",
    "\t\t\t\n",
    "\t\t# test\n",
    "\t\t# break\n",
    "\n",
    "\tprint(\"\\n\" + \"---\"*20 + \"\\n\")\n",
    "\n",
    "print(\"\\n--- ⭕ [END] Pairwise Analysis\")\n",
    "print(\"--- ⏳ End Time   : {}\".format(datetime.datetime.now().strftime(\"%Y-%m-%d %H:%M:%S\")))\n",
    "print(\"--- ⏳ Total Time : {}\".format(datetime.datetime.now() - initTime))\n",
    "print(\"\\n\" + \"===\"*20 + \"\\n\")"
   ]
  },
  {
   "cell_type": "markdown",
   "metadata": {},
   "source": [
    "#### 💾 3] Save Results"
   ]
  },
  {
   "cell_type": "code",
   "execution_count": null,
   "metadata": {},
   "outputs": [],
   "source": [
    "# Create a pandas DataFrame from the results list\n",
    "resultsDF = pd.DataFrame(results)\n",
    "\n",
    "# Reorder the data\n",
    "resultsDF = resultsDF.sort_values(by=[\"pkgName\", \"location1\", \"location2\"]).reset_index(drop=True)\n",
    "\n",
    "# Show\n",
    "resultsDF.head()"
   ]
  },
  {
   "cell_type": "code",
   "execution_count": null,
   "metadata": {},
   "outputs": [],
   "source": [
    "# Save the DataFrame to a CSV file in the RESULTS_PATH directory\n",
    "csvPath = os.path.join(RESULTS_PATH, \"RQ3_Results.csv\")\n",
    "\n",
    "# Save\n",
    "resultsDF.to_csv(csvPath, index=False)\n",
    "print(\"--- 💾 Results saved to {}\".format(csvPath))"
   ]
  },
  {
   "cell_type": "markdown",
   "metadata": {},
   "source": [
    "##### 🔚 End"
   ]
  },
  {
   "cell_type": "code",
   "execution_count": null,
   "metadata": {},
   "outputs": [],
   "source": [
    "endTime = datetime.datetime.now()\n",
    "print(\"\\n🔚 --- END:  {} --- 🔚\".format(endTime.strftime(\"%Y-%m-%d %H:%M:%S\")))\n",
    "\n",
    "# Assuming endTime and initTime are datetime objects\n",
    "totalTime = endTime - initTime\n",
    "hours     = totalTime.total_seconds() // 3600\n",
    "minutes   = (totalTime.total_seconds() % 3600) // 60\n",
    "seconds   = totalTime.total_seconds() % 60\n",
    "print(\"⏱️ --- Time: {:02d} hours and {:02d} minutes [{:02d} seconds] --- ⏱️\".format(int(hours), int(minutes), int(totalTime.total_seconds())))"
   ]
  }
 ],
 "metadata": {
  "kernelspec": {
   "display_name": "marcoEnv",
   "language": "python",
   "name": "python3"
  },
  "language_info": {
   "codemirror_mode": {
    "name": "ipython",
    "version": 3
   },
   "file_extension": ".py",
   "mimetype": "text/x-python",
   "name": "python",
   "nbconvert_exporter": "python",
   "pygments_lexer": "ipython3",
   "version": "3.11.11"
  }
 },
 "nbformat": 4,
 "nbformat_minor": 2
}
