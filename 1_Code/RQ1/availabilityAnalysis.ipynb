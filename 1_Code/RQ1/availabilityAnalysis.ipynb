{
 "cells": [
  {
   "cell_type": "markdown",
   "metadata": {},
   "source": [
    "## 📊 RQ1: Availability Analysis"
   ]
  },
  {
   "cell_type": "code",
   "execution_count": 24,
   "metadata": {},
   "outputs": [],
   "source": [
    "# Imports\n",
    "from   dotenv   \t\t\timport load_dotenv\n",
    "import matplotlib.pyplot \tas plt\n",
    "import seaborn \t\t\t\tas sns\n",
    "import pandas   \t\t\tas pd\n",
    "import datetime\n",
    "import ast\n",
    "import os\n",
    "\n",
    "# Custom Imports\n",
    "import sys\n",
    "sys.path.append('../')\n",
    "import AppUtils \t"
   ]
  },
  {
   "cell_type": "markdown",
   "metadata": {},
   "source": [
    "##### Parameters"
   ]
  },
  {
   "cell_type": "code",
   "execution_count": 25,
   "metadata": {},
   "outputs": [],
   "source": [
    "TMP_PATH = \"../../0_Data/TMP/\""
   ]
  },
  {
   "cell_type": "markdown",
   "metadata": {},
   "source": [
    "#### Initialization"
   ]
  },
  {
   "cell_type": "code",
   "execution_count": 26,
   "metadata": {},
   "outputs": [
    {
     "name": "stdout",
     "output_type": "stream",
     "text": [
      "⚡ START: 2025-06-05 18:47:16 ⚡\n"
     ]
    }
   ],
   "source": [
    "print(\"⚡ START: {} ⚡\".format(datetime.datetime.now().strftime(\"%Y-%m-%d %H:%M:%S\")))\n",
    "initTime = datetime.datetime.now()"
   ]
  },
  {
   "cell_type": "code",
   "execution_count": 27,
   "metadata": {},
   "outputs": [
    {
     "name": "stdout",
     "output_type": "stream",
     "text": [
      "--- 📁✅ Folder already exists: ../../0_Data/TMP/\n",
      "\n"
     ]
    }
   ],
   "source": [
    "# Create TMP Folder\n",
    "if not os.path.exists(TMP_PATH):\n",
    "    os.makedirs(TMP_PATH)\n",
    "    print(\"--- 📁🆕 Folder created       : {}\\n\".format(TMP_PATH))\n",
    "else:\n",
    "    print(\"--- 📁✅ Folder already exists: {}\\n\".format(TMP_PATH))"
   ]
  },
  {
   "cell_type": "code",
   "execution_count": 28,
   "metadata": {},
   "outputs": [
    {
     "data": {
      "text/plain": [
       "True"
      ]
     },
     "execution_count": 28,
     "metadata": {},
     "output_type": "execute_result"
    }
   ],
   "source": [
    "# Load .env Info\n",
    "load_dotenv()"
   ]
  },
  {
   "cell_type": "markdown",
   "metadata": {},
   "source": [
    "#### 📥 1) Load Data"
   ]
  },
  {
   "cell_type": "code",
   "execution_count": 29,
   "metadata": {},
   "outputs": [
    {
     "name": "stdout",
     "output_type": "stream",
     "text": [
      "--- #️⃣ Number of apps: 73756\n"
     ]
    }
   ],
   "source": [
    "# Specify the data path\n",
    "DATA_PATH = '../../0_Data/1_appsAvailabilityByCountry.csv'\n",
    "\n",
    "# Read the CSV file into a pandas dataframe\n",
    "appsDF = pd.read_csv(DATA_PATH)\n",
    "\n",
    "print(\"--- #️⃣ Number of apps: {}\".format(appsDF.shape[0]))"
   ]
  },
  {
   "cell_type": "code",
   "execution_count": 30,
   "metadata": {},
   "outputs": [
    {
     "data": {
      "application/vnd.microsoft.datawrangler.viewer.v0+json": {
       "columns": [
        {
         "name": "index",
         "rawType": "int64",
         "type": "integer"
        },
        {
         "name": "sha256",
         "rawType": "object",
         "type": "string"
        },
        {
         "name": "pkgName",
         "rawType": "object",
         "type": "string"
        },
        {
         "name": "Luxembourg",
         "rawType": "object",
         "type": "string"
        },
        {
         "name": "Santiago",
         "rawType": "object",
         "type": "string"
        },
        {
         "name": "Sydney",
         "rawType": "object",
         "type": "string"
        },
        {
         "name": "TelAviv",
         "rawType": "object",
         "type": "string"
        },
        {
         "name": "Tokyo",
         "rawType": "object",
         "type": "string"
        },
        {
         "name": "LosAngeles",
         "rawType": "object",
         "type": "string"
        },
        {
         "name": "Johannesburg",
         "rawType": "object",
         "type": "string"
        }
       ],
       "ref": "5427339e-2070-40ca-975f-6814f7e85943",
       "rows": [
        [
         "0",
         "B44C651BF81A8331ED17FF8B763EE62C63036DFF160C2AA88309EFFBED4D3AAB",
         "MortgageRefinancingPRO_Market.DPsoftware.org",
         "True",
         "True",
         "True",
         "True",
         "True",
         "True",
         "True"
        ],
        [
         "1",
         "A853007A4F7FDE328C6732011B94DB848DE4BB8FB0BEE2B38AB23A5DAC1AEE60",
         "a.levelclass",
         "True",
         "True",
         "True",
         "True",
         "True",
         "True",
         "True"
        ],
        [
         "2",
         "FCA3AA578ECB23F933FEA4D39CDDB7EED53B2F5DCE9C167FBBC694D9B8B4102D",
         "a2z.Mobile.Event6390",
         "404",
         "404",
         "404",
         "404",
         "404",
         "404",
         "404"
        ],
        [
         "3",
         "0796E815B58BDFC497053139397645F0069C9BD42E7D7B9C56AD68F1B7C51C51",
         "a2z.Mobile.Event6394",
         "True",
         "True",
         "True",
         "True",
         "True",
         "True",
         "True"
        ],
        [
         "4",
         "E74AEC71195C7C1EBAB9601A4217C0DDE0130BD665B542F224AD4E5B5714D2AF",
         "a2z.Mobile.Event6407",
         "True",
         "True",
         "True",
         "True",
         "True",
         "True",
         "True"
        ]
       ],
       "shape": {
        "columns": 9,
        "rows": 5
       }
      },
      "text/html": [
       "<div>\n",
       "<style scoped>\n",
       "    .dataframe tbody tr th:only-of-type {\n",
       "        vertical-align: middle;\n",
       "    }\n",
       "\n",
       "    .dataframe tbody tr th {\n",
       "        vertical-align: top;\n",
       "    }\n",
       "\n",
       "    .dataframe thead th {\n",
       "        text-align: right;\n",
       "    }\n",
       "</style>\n",
       "<table border=\"1\" class=\"dataframe\">\n",
       "  <thead>\n",
       "    <tr style=\"text-align: right;\">\n",
       "      <th></th>\n",
       "      <th>sha256</th>\n",
       "      <th>pkgName</th>\n",
       "      <th>Luxembourg</th>\n",
       "      <th>Santiago</th>\n",
       "      <th>Sydney</th>\n",
       "      <th>TelAviv</th>\n",
       "      <th>Tokyo</th>\n",
       "      <th>LosAngeles</th>\n",
       "      <th>Johannesburg</th>\n",
       "    </tr>\n",
       "  </thead>\n",
       "  <tbody>\n",
       "    <tr>\n",
       "      <th>0</th>\n",
       "      <td>B44C651BF81A8331ED17FF8B763EE62C63036DFF160C2A...</td>\n",
       "      <td>MortgageRefinancingPRO_Market.DPsoftware.org</td>\n",
       "      <td>True</td>\n",
       "      <td>True</td>\n",
       "      <td>True</td>\n",
       "      <td>True</td>\n",
       "      <td>True</td>\n",
       "      <td>True</td>\n",
       "      <td>True</td>\n",
       "    </tr>\n",
       "    <tr>\n",
       "      <th>1</th>\n",
       "      <td>A853007A4F7FDE328C6732011B94DB848DE4BB8FB0BEE2...</td>\n",
       "      <td>a.levelclass</td>\n",
       "      <td>True</td>\n",
       "      <td>True</td>\n",
       "      <td>True</td>\n",
       "      <td>True</td>\n",
       "      <td>True</td>\n",
       "      <td>True</td>\n",
       "      <td>True</td>\n",
       "    </tr>\n",
       "    <tr>\n",
       "      <th>2</th>\n",
       "      <td>FCA3AA578ECB23F933FEA4D39CDDB7EED53B2F5DCE9C16...</td>\n",
       "      <td>a2z.Mobile.Event6390</td>\n",
       "      <td>404</td>\n",
       "      <td>404</td>\n",
       "      <td>404</td>\n",
       "      <td>404</td>\n",
       "      <td>404</td>\n",
       "      <td>404</td>\n",
       "      <td>404</td>\n",
       "    </tr>\n",
       "    <tr>\n",
       "      <th>3</th>\n",
       "      <td>0796E815B58BDFC497053139397645F0069C9BD42E7D7B...</td>\n",
       "      <td>a2z.Mobile.Event6394</td>\n",
       "      <td>True</td>\n",
       "      <td>True</td>\n",
       "      <td>True</td>\n",
       "      <td>True</td>\n",
       "      <td>True</td>\n",
       "      <td>True</td>\n",
       "      <td>True</td>\n",
       "    </tr>\n",
       "    <tr>\n",
       "      <th>4</th>\n",
       "      <td>E74AEC71195C7C1EBAB9601A4217C0DDE0130BD665B542...</td>\n",
       "      <td>a2z.Mobile.Event6407</td>\n",
       "      <td>True</td>\n",
       "      <td>True</td>\n",
       "      <td>True</td>\n",
       "      <td>True</td>\n",
       "      <td>True</td>\n",
       "      <td>True</td>\n",
       "      <td>True</td>\n",
       "    </tr>\n",
       "  </tbody>\n",
       "</table>\n",
       "</div>"
      ],
      "text/plain": [
       "                                              sha256  \\\n",
       "0  B44C651BF81A8331ED17FF8B763EE62C63036DFF160C2A...   \n",
       "1  A853007A4F7FDE328C6732011B94DB848DE4BB8FB0BEE2...   \n",
       "2  FCA3AA578ECB23F933FEA4D39CDDB7EED53B2F5DCE9C16...   \n",
       "3  0796E815B58BDFC497053139397645F0069C9BD42E7D7B...   \n",
       "4  E74AEC71195C7C1EBAB9601A4217C0DDE0130BD665B542...   \n",
       "\n",
       "                                        pkgName Luxembourg Santiago Sydney  \\\n",
       "0  MortgageRefinancingPRO_Market.DPsoftware.org       True     True   True   \n",
       "1                                  a.levelclass       True     True   True   \n",
       "2                          a2z.Mobile.Event6390        404      404    404   \n",
       "3                          a2z.Mobile.Event6394       True     True   True   \n",
       "4                          a2z.Mobile.Event6407       True     True   True   \n",
       "\n",
       "  TelAviv Tokyo LosAngeles Johannesburg  \n",
       "0    True  True       True         True  \n",
       "1    True  True       True         True  \n",
       "2     404   404        404          404  \n",
       "3    True  True       True         True  \n",
       "4    True  True       True         True  "
      ]
     },
     "execution_count": 30,
     "metadata": {},
     "output_type": "execute_result"
    }
   ],
   "source": [
    "appsDF.head(5)"
   ]
  },
  {
   "cell_type": "markdown",
   "metadata": {},
   "source": [
    "### 🛠️ 2) Preprocess Data"
   ]
  },
  {
   "cell_type": "code",
   "execution_count": 31,
   "metadata": {},
   "outputs": [
    {
     "name": "stdout",
     "output_type": "stream",
     "text": [
      "--- 🌍 Locations: ['Luxembourg', 'Santiago', 'Sydney', 'TelAviv', 'Tokyo', 'LosAngeles', 'Johannesburg']\n"
     ]
    }
   ],
   "source": [
    "# Get the list of locations from the columns\n",
    "locationsList = appsDF.columns[2:].to_list()\n",
    "print(\"--- 🌍 Locations: {}\".format(locationsList))"
   ]
  },
  {
   "cell_type": "code",
   "execution_count": 32,
   "metadata": {},
   "outputs": [],
   "source": [
    "# Apply ast.literal_eval to every column except the first one\n",
    "for col in appsDF.columns[2:]:\n",
    "    appsDF[col] = appsDF[col].apply(lambda x: ast.literal_eval(x) if isinstance(x, str) else x)\n",
    "\n",
    "# Replace '404' string with 404 number\n",
    "appsDF.replace('404', 404, inplace=True)"
   ]
  },
  {
   "cell_type": "code",
   "execution_count": 33,
   "metadata": {},
   "outputs": [
    {
     "name": "stdout",
     "output_type": "stream",
     "text": [
      "--- ✅ Number of apps with all location are True : 48178\n",
      "--- ❌ Number of apps with all location are False: 143\n",
      "--- ⚠️ Number of apps with at least one 404      : 12210\n",
      "--- #️⃣ Number of remaining apps                  : 13225\n"
     ]
    }
   ],
   "source": [
    "# Count the number of rows where at least one column (except the first) has a '404' value\n",
    "numAtLeastOne404 = (appsDF.iloc[:, 2:] == 404).any(axis=1).sum()\n",
    "\n",
    "# Count the number of rows where all columns (except the first) are equal to False\n",
    "numAllFalse = (appsDF.iloc[:, 2:] == False).all(axis=1).sum()\n",
    "\n",
    "# Count the number of rows where all columns (except the first) are equal to True\n",
    "numAllTrue = (appsDF.iloc[:, 2:] == True).all(axis=1).sum()\n",
    "\n",
    "# Print the numbers in a nicely formatted way with emoji\n",
    "print(\"--- ✅ Number of apps with all location are True : {}\".format(numAllTrue))\n",
    "print(\"--- ❌ Number of apps with all location are False: {}\".format(numAllFalse))\n",
    "print(\"--- ⚠️ Number of apps with at least one 404      : {}\".format(numAtLeastOne404))\n",
    "\n",
    "# Remove rows with all locations as False, at least one 404, or all True\n",
    "appsDF = appsDF[~((appsDF.iloc[:, 2:] == False).all(axis=1) | (appsDF.iloc[:, 2:] == 404).any(axis=1) | (appsDF.iloc[:, 2:] == True).all(axis=1))]\n",
    "\n",
    "# Print the number of remaining apps\n",
    "print(\"--- #️⃣ Number of remaining apps                  : {}\".format(appsDF.shape[0]))"
   ]
  },
  {
   "cell_type": "markdown",
   "metadata": {},
   "source": [
    "### 🌍 3) Create invididual DFs for app available only in a certain location."
   ]
  },
  {
   "cell_type": "code",
   "execution_count": 34,
   "metadata": {},
   "outputs": [
    {
     "name": "stdout",
     "output_type": "stream",
     "text": [
      "--- 📍 Luxembourg  : 275   Unique Pkg Names\n",
      "--- 📍 Santiago    : 687   Unique Pkg Names\n",
      "--- 📍 Sydney      : 1014  Unique Pkg Names\n",
      "--- 📍 TelAviv     : 585   Unique Pkg Names\n",
      "--- 📍 Tokyo       : 5807  Unique Pkg Names\n",
      "--- 📍 LosAngeles  : 1718  Unique Pkg Names\n",
      "--- 📍 Johannesburg: 599   Unique Pkg Names\n"
     ]
    }
   ],
   "source": [
    "# Get apps that can be downloaded in only one location\n",
    "dfsPerLocation = {}\n",
    "\n",
    "for location in locationsList:\n",
    "    if location in appsDF.columns:\n",
    "        # Create a dataframe where the location is True and all other locations are False\n",
    "        df = appsDF[(appsDF[location] == True) & (appsDF[locationsList].sum(axis=1) == 1)]\n",
    "        dfsPerLocation[location] = df\n",
    "\n",
    "        # Save the dataframe to a CSV file\n",
    "        #df.to_csv(f\"{TMP_PATH}appsExclusive_{location}.csv\", index=False)\n",
    "\n",
    "for location, df in dfsPerLocation.items():\n",
    "    print(\"--- 📍 {:<12}: {:<5} Unique Pkg Names\".format(location, df.shape[0]))"
   ]
  },
  {
   "cell_type": "code",
   "execution_count": 35,
   "metadata": {},
   "outputs": [],
   "source": [
    "# Parameters\n",
    "SMALL_SIZE  = 16\n",
    "MEDIUM_SIZE = 18\n",
    "LARGE_SIZE  = 20\n",
    "\n",
    "COLORS  = [\"#89CFFD\", '#FF8282', '#C084FC', '#FFE066', '#90C67C','#FFB347', '#60B5FF'  ]\n",
    "\n",
    "PLOTS_PATH = \"./0_Data/Plots/\""
   ]
  },
  {
   "cell_type": "code",
   "execution_count": 36,
   "metadata": {},
   "outputs": [
    {
     "data": {
      "image/png": "[encoded data removed]",
      "text/plain": [
       "<Figure size 3500x300 with 1 Axes>"
      ]
     },
     "metadata": {},
     "output_type": "display_data"
    }
   ],
   "source": [
    "# Your data\n",
    "locations = list(dfsPerLocation.keys())\n",
    "numUniquePkgNames = [df.shape[0] for df in dfsPerLocation.values()]\n",
    "\n",
    "# Compute total and percentages\n",
    "totalApps = sum(numUniquePkgNames)\n",
    "percentages = [count / totalApps * 100 for count in numUniquePkgNames]\n",
    "\n",
    "# --- Plot ---\n",
    "plt.figure(figsize=(35, 3))\n",
    "ax = plt.gca()\n",
    "ax.axis('off')\n",
    "\n",
    "# Plot each location as a stacked bar\n",
    "for i in range(len(locations)):\n",
    "    left = sum(numUniquePkgNames[:i])\n",
    "    width = numUniquePkgNames[i]\n",
    "    color = COLORS[i % len(COLORS)]\n",
    "    \n",
    "    # Bar segment\n",
    "    if locations[i] == 'Luxembourg':\n",
    "        width += 100\n",
    "    if locations[i] in ['Santiago', 'Sydney', 'TelAviv', 'Tokyo']:\n",
    "        left += 100\n",
    "    if locations[i] == 'Tokyo':\n",
    "        width -= 100\n",
    "    ax.barh(0, width, left=left, edgecolor='black', color=color)\n",
    "\n",
    "    # Label position\n",
    "    textX = left + width / 2\n",
    "    textY = -0.7 if i % 2 == 0 else -1\n",
    "\n",
    "    # Location label\n",
    "    ax.text(textX, textY, locations[i], ha='center', va='center', fontsize=26)\n",
    "\n",
    "    # Percentage + count\n",
    "    ax.text(textX, 0, '{:.1f}%\\n[{:,}]'.format(percentages[i], numUniquePkgNames[i]),\n",
    "            ha='center', va='center', fontsize=24)\n",
    "\n",
    "    # Leader line\n",
    "    ax.plot([textX, textX], [-0.41, textY + 0.1], color='black')\n",
    "\n",
    "# Adjust x-axis\n",
    "ax.set_xlim(0, totalApps)\n",
    "\n",
    "# Save\n",
    "plt.savefig(PLOTS_PATH + 'rq1_appsPerLocation.png', dpi=300, bbox_inches='tight')\n",
    "plt.savefig(PLOTS_PATH + 'rq1_appsPerLocation.pdf', bbox_inches='tight')\n",
    "\n",
    "plt.show()"
   ]
  },
  {
   "cell_type": "markdown",
   "metadata": {},
   "source": [
    "### 🔍 4) Analysis"
   ]
  },
  {
   "cell_type": "markdown",
   "metadata": {},
   "source": [
    "App available exclusively in X countries."
   ]
  },
  {
   "cell_type": "code",
   "execution_count": 37,
   "metadata": {},
   "outputs": [
    {
     "name": "stdout",
     "output_type": "stream",
     "text": [
      "--- ⭕ 1  country(ies) --> [17.40%] -- [10685/61403] of apps downloadable.\n",
      "--- ⭕ 2  country(ies) --> [ 1.64%] -- [ 1007/61403] of apps downloadable.\n",
      "--- ⭕ 3  country(ies) --> [ 0.60%] -- [  370/61403] of apps downloadable.\n",
      "--- ⭕ 4  country(ies) --> [ 0.32%] -- [  198/61403] of apps downloadable.\n",
      "--- ⭕ 5  country(ies) --> [ 0.29%] -- [  179/61403] of apps downloadable.\n",
      "--- ⭕ 6  country(ies) --> [ 1.27%] -- [  779/61403] of apps downloadable.\n",
      "--- ⭕ All locations   --> [78.46%] -- [48178/61403] of apps downloadable.\n"
     ]
    }
   ],
   "source": [
    "# Initialize a list to store the percentages\n",
    "percentages = []\n",
    "\n",
    "totalApps = appsDF.shape[0]\n",
    "\n",
    "# Total number of apps including those with all locations True\n",
    "totalAppsIncludingAllTrue = totalApps + numAllTrue\n",
    "\n",
    "# Iterate through the number of countries\n",
    "for i in range(1, len(locationsList)):\n",
    "    # Count the number of apps downloadable in exactly 'i' countries\n",
    "    count = appsDF[appsDF[locationsList].sum(axis=1) == i].shape[0]\n",
    "    # Calculate the percentage\n",
    "    percentage = (count / totalAppsIncludingAllTrue) * 100\n",
    "    percentages.append((i, percentage))\n",
    "    # Print the count and percentage for each iteration\n",
    "    print(\"--- ⭕ {:<2} country(ies) --> [{:>5.2f}%] -- [{:>5}/{}] of apps downloadable.\".format(i, percentage, count, totalAppsIncludingAllTrue))\n",
    "\n",
    "# Calculate and print the percentage of apps downloadable in all locations\n",
    "percentageAllTrue = (numAllTrue / totalAppsIncludingAllTrue) * 100\n",
    "print(\"--- ⭕ All locations   --> [{:>5.2f}%] -- [{:>5}/{}] of apps downloadable.\".format(percentageAllTrue, numAllTrue, totalAppsIncludingAllTrue))"
   ]
  },
  {
   "cell_type": "markdown",
   "metadata": {},
   "source": [
    "##### 🔚 End"
   ]
  },
  {
   "cell_type": "code",
   "execution_count": 38,
   "metadata": {},
   "outputs": [
    {
     "name": "stdout",
     "output_type": "stream",
     "text": [
      "\n",
      "🔚 --- END:  2025-06-05 18:47:17 --- 🔚\n",
      "⏱️ --- Time: 00 hours and 00 minutes [01 seconds] --- ⏱️\n"
     ]
    }
   ],
   "source": [
    "endTime = datetime.datetime.now()\n",
    "print(\"\\n🔚 --- END:  {} --- 🔚\".format(endTime.strftime(\"%Y-%m-%d %H:%M:%S\")))\n",
    "\n",
    "# Assuming endTime and initTime are datetime objects\n",
    "totalTime = endTime - initTime\n",
    "hours     = totalTime.total_seconds() // 3600\n",
    "minutes   = (totalTime.total_seconds() % 3600) // 60\n",
    "seconds   = totalTime.total_seconds() % 60\n",
    "print(\"⏱️ --- Time: {:02d} hours and {:02d} minutes [{:02d} seconds] --- ⏱️\".format(int(hours), int(minutes), int(totalTime.total_seconds())))"
   ]
  }
 ],
 "metadata": {
  "kernelspec": {
   "display_name": "marcoEnv",
   "language": "python",
   "name": "python3"
  },
  "language_info": {
   "codemirror_mode": {
    "name": "ipython",
    "version": 3
   },
   "file_extension": ".py",
   "mimetype": "text/x-python",
   "name": "python",
   "nbconvert_exporter": "python",
   "pygments_lexer": "ipython3",
   "version": "3.9.20"
  }
 },
 "nbformat": 4,
 "nbformat_minor": 2
}
