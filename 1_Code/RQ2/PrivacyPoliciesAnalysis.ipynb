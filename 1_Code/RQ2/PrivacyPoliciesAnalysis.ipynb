{
 "cells": [
  {
   "cell_type": "markdown",
   "metadata": {},
   "source": [
    "## 🧪 RQ2: Privacy Policies Analysis"
   ]
  },
  {
   "cell_type": "code",
   "execution_count": null,
   "metadata": {},
   "outputs": [],
   "source": [
    "# Imports\n",
    "from   dotenv     \t\t\timport load_dotenv\n",
    "from   sklearn.manifold \timport TSNE\n",
    "from   ast \t\t\t\t\timport literal_eval\n",
    "import matplotlib.pyplot \tas plt\n",
    "import seaborn \t\t\t\tas sns\n",
    "import pandas    \t\t\tas pd\n",
    "import datetime\n",
    "import os"
   ]
  },
  {
   "cell_type": "markdown",
   "metadata": {},
   "source": [
    "##### Parameters"
   ]
  },
  {
   "cell_type": "code",
   "execution_count": null,
   "metadata": {},
   "outputs": [],
   "source": [
    "TMP_PATH = \"../../0_Data/TMP/\""
   ]
  },
  {
   "cell_type": "markdown",
   "metadata": {},
   "source": [
    "#### Initialization"
   ]
  },
  {
   "cell_type": "code",
   "execution_count": null,
   "metadata": {},
   "outputs": [],
   "source": [
    "print(\"⚡ START: {} ⚡\".format(datetime.datetime.now().strftime(\"%Y-%m-%d %H:%M:%S\")))\n",
    "initTime = datetime.datetime.now()"
   ]
  },
  {
   "cell_type": "code",
   "execution_count": null,
   "metadata": {},
   "outputs": [],
   "source": [
    "# Create TMP Folder\n",
    "if not os.path.exists(TMP_PATH):\n",
    "\tos.makedirs(TMP_PATH)\n",
    "\tprint(\"--- 📁🆕 Folder created       : {}\\n\".format(TMP_PATH))\n",
    "else:\n",
    "\tprint(\"--- 📁✅ Folder already exists: {}\\n\".format(TMP_PATH))"
   ]
  },
  {
   "cell_type": "code",
   "execution_count": null,
   "metadata": {},
   "outputs": [],
   "source": [
    "# Load .env Info\n",
    "load_dotenv()"
   ]
  },
  {
   "cell_type": "markdown",
   "metadata": {},
   "source": [
    "#### 📥 1) Load Data"
   ]
  },
  {
   "cell_type": "code",
   "execution_count": null,
   "metadata": {},
   "outputs": [],
   "source": [
    "# Specify the data path\n",
    "DATA_PATH = './0_Data/1_AppsWithDownloads/'\n",
    "\n",
    "# Read all CSV files in the DATA_PATH folder and store them in a dictionary\n",
    "locationDFs   = {}\n",
    "locationsList = []\n",
    "for fileName in os.listdir(DATA_PATH):\n",
    "\tif fileName.endswith('_Downloads.csv'):\n",
    "\t\tlocation = fileName.split('_')[0]\n",
    "\t\tfilePath = os.path.join(DATA_PATH, fileName)\n",
    "\n",
    "\t\t# Save the DataFrame to the dictionary\n",
    "\t\tlocationDFs[location] = pd.read_csv(filePath)\n",
    "\t\tlocationsList.append(location)"
   ]
  },
  {
   "cell_type": "code",
   "execution_count": null,
   "metadata": {},
   "outputs": [],
   "source": [
    "for location, df in locationDFs.items():\n",
    "\tprint(\"--- 📍 {:<14}: {:<5} Unique Pkg Names\".format(location, df.shape[0]))"
   ]
  },
  {
   "cell_type": "code",
   "execution_count": null,
   "metadata": {},
   "outputs": [],
   "source": [
    "EMBEDDINGS_PATH = './0_Data/PrivacyPoliciesEmbeddings/'\n",
    "\n",
    "for location, df in locationDFs.items():\n",
    "\tprint(\"--- 📍 {}: {:<5}\".format(location, df.shape[0]))\n",
    "\n",
    "\tembeddingDF = pd.read_csv(os.path.join(EMBEDDINGS_PATH, 'privacyPoliciesEmbeddings_{}.csv'.format(location)))\n",
    "\tprint(\"--- 🔢 Loaded embeddings   : {} \".format(embeddingDF.shape[0]))\n",
    "\n",
    "\t# Print the number of apps before merging\n",
    "\tprint(\"--- #️⃣ Apps before merging : {}\".format(df.shape[0]))\n",
    "\n",
    "\t#print(embeddingDF.head(3))\n",
    "\n",
    "\t# Merge embeddings into the original df based on 'sha256'\n",
    "\tdf = df.merge(\n",
    "\t\tembeddingDF[['sha256', 'embedding']],\n",
    "\t\ton='sha256',\n",
    "\t\thow='left',\n",
    "\t)\n",
    "\n",
    "\t# Remove rows with NaN in the 'embedding' column\n",
    "\tdf = df.dropna(subset=['embedding'])\n",
    "\n",
    "\t# Convert the 'embedding' column from string to list using ast.literal_eval\n",
    "\tdf['embedding'] = df['embedding'].apply(literal_eval)\n",
    "\n",
    "\t# Sort by numDownloads\n",
    "\tdf = df.sort_values(by='numDownloads', ascending=False)\n",
    "\n",
    "\t# Print the number of apps after merging\n",
    "\tprint(\"--- #️⃣ Apps after merging  : {}\".format(df.shape[0]))\n",
    "\n",
    "\t# Save the merged DataFrame to a new CSV file\n",
    "\tlocationDFs[location] = df\n",
    "\n",
    "\tprint(\"\\n\" + \"---\"*20 + \"\\n\")"
   ]
  },
  {
   "cell_type": "markdown",
   "metadata": {},
   "source": [
    "### 🧪 2) Analysis"
   ]
  },
  {
   "cell_type": "code",
   "execution_count": null,
   "metadata": {},
   "outputs": [],
   "source": [
    "# Where to store Plots\n",
    "PLOTS_PATH = './0_Data/Plots/'\n",
    "\n",
    "# Random seed\n",
    "RANDOM_SEED = 777\n",
    "\n",
    "# COLORS\n",
    "COLORS  = [\"#89CFFD\", '#FF8282', '#C084FC', '#FFE066', '#90C67C','#FFB347', '#60B5FF']\n",
    "\n",
    "# Parameters\n",
    "SMALL_SIZE  = 16\n",
    "MEDIUM_SIZE = 18\n",
    "LARGE_SIZE  = 20\n",
    "\n",
    "# Dot size\n",
    "DOT_SIZE = 60\n",
    "#DOT_SIZE = 30"
   ]
  },
  {
   "cell_type": "code",
   "execution_count": null,
   "metadata": {},
   "outputs": [],
   "source": [
    "# Randomly sample up to 100 rows from each DataFrame in locationDFs\n",
    "locationDFs = {loc: df_.sample(n=min(100, len(df_)), random_state=RANDOM_SEED) for loc, df_ in locationDFs.items()}\n",
    "\n",
    "# Convert the dictionary of DataFrames (locationDFs) into a single DataFrame with a 'location' column\n",
    "dataDF = pd.concat(\n",
    "\t[df_.assign(location=loc) for loc, df_ in locationDFs.items()],\n",
    "\tignore_index=True\n",
    ")"
   ]
  },
  {
   "cell_type": "code",
   "execution_count": null,
   "metadata": {},
   "outputs": [],
   "source": [
    "# Convert the embeddings column into a 2D array\n",
    "X = pd.DataFrame(dataDF['embedding'].tolist())\n",
    "y = dataDF['location']\n",
    "\n",
    "# Optional: Use t-SNE for dimensionality reduction to 2D\n",
    "reducer = TSNE(n_components=2, random_state=RANDOM_SEED)  \n",
    "X_2d = reducer.fit_transform(X)\n",
    "\n",
    "# Create a new DataFrame for plotting\n",
    "plotDF = pd.DataFrame({\n",
    "    'x': X_2d[:, 0],\n",
    "    'y': X_2d[:, 1],\n",
    "    'label': y\n",
    "})\n",
    "\n",
    "# Plot using seaborn\n",
    "plt.figure(figsize=(8, 8))\n",
    "sns.scatterplot(data=plotDF, x='x', y='y', hue='label', palette=COLORS, s=DOT_SIZE, alpha=1) \n",
    "\n",
    "plt.xlabel('')\n",
    "plt.ylabel('')\n",
    "\n",
    "plt.legend(title='Location', fontsize=11, title_fontsize=12)\n",
    "plt.grid(True)\n",
    "\n",
    "plt.savefig(os.path.join(PLOTS_PATH, \"rq2_privacyPoliciesScatter\") + \".pdf\", bbox_inches='tight')\n",
    "plt.savefig(os.path.join(PLOTS_PATH, \"rq2_privacyPoliciesScatter\") + \".png\", bbox_inches='tight', dpi=300)\n",
    "\n",
    "plt.show()"
   ]
  },
  {
   "cell_type": "markdown",
   "metadata": {},
   "source": [
    "##### 🔚 End"
   ]
  },
  {
   "cell_type": "code",
   "execution_count": null,
   "metadata": {},
   "outputs": [],
   "source": [
    "endTime = datetime.datetime.now()\n",
    "print(\"\\n🔚 --- END:  {} --- 🔚\".format(endTime.strftime(\"%Y-%m-%d %H:%M:%S\")))\n",
    "\n",
    "# Assuming endTime and initTime are datetime objects\n",
    "totalTime = endTime - initTime\n",
    "hours     = totalTime.total_seconds() // 3600\n",
    "minutes   = (totalTime.total_seconds() % 3600) // 60\n",
    "seconds   = totalTime.total_seconds() % 60\n",
    "print(\"⏱️ --- Time: {:02d} hours and {:02d} minutes [{:02d} seconds] --- ⏱️\".format(int(hours), int(minutes), int(totalTime.total_seconds())))"
   ]
  }
 ],
 "metadata": {
  "kernelspec": {
   "display_name": "marcoEnv",
   "language": "python",
   "name": "python3"
  },
  "language_info": {
   "codemirror_mode": {
    "name": "ipython",
    "version": 3
   },
   "file_extension": ".py",
   "mimetype": "text/x-python",
   "name": "python",
   "nbconvert_exporter": "python",
   "pygments_lexer": "ipython3",
   "version": "3.9.20"
  }
 },
 "nbformat": 4,
 "nbformat_minor": 2
}
