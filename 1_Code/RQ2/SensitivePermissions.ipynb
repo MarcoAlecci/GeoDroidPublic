{
 "cells": [
  {
   "cell_type": "markdown",
   "metadata": {},
   "source": [
    "## 🧪 RQ2: Sensitive Permissions Analysis\n",
    "\n",
    "Analysis"
   ]
  },
  {
   "cell_type": "code",
   "execution_count": null,
   "metadata": {},
   "outputs": [],
   "source": [
    "# Imports\n",
    "from   dotenv     \t\t\timport load_dotenv\n",
    "from   collections          import Counter\n",
    "import matplotlib.pyplot \tas plt\n",
    "import matplotlib.colors   \tas mcolors\n",
    "import seaborn \t\t\t\tas sns\n",
    "import pandas    \t\t\tas pd\n",
    "import datetime\n",
    "import os"
   ]
  },
  {
   "cell_type": "markdown",
   "metadata": {},
   "source": [
    "##### Parameters"
   ]
  },
  {
   "cell_type": "code",
   "execution_count": null,
   "metadata": {},
   "outputs": [],
   "source": [
    "TMP_PATH = \"../../0_Data/TMP/\""
   ]
  },
  {
   "cell_type": "markdown",
   "metadata": {},
   "source": [
    "#### Initialization"
   ]
  },
  {
   "cell_type": "code",
   "execution_count": null,
   "metadata": {},
   "outputs": [],
   "source": [
    "print(\"⚡ START: {} ⚡\".format(datetime.datetime.now().strftime(\"%Y-%m-%d %H:%M:%S\")))\n",
    "initTime = datetime.datetime.now()"
   ]
  },
  {
   "cell_type": "code",
   "execution_count": null,
   "metadata": {},
   "outputs": [],
   "source": [
    "# Create TMP Folder\n",
    "if not os.path.exists(TMP_PATH):\n",
    "\tos.makedirs(TMP_PATH)\n",
    "\tprint(\"--- 📁🆕 Folder created       : {}\\n\".format(TMP_PATH))\n",
    "else:\n",
    "\tprint(\"--- 📁✅ Folder already exists: {}\\n\".format(TMP_PATH))"
   ]
  },
  {
   "cell_type": "code",
   "execution_count": null,
   "metadata": {},
   "outputs": [],
   "source": [
    "# Load .env Info\n",
    "load_dotenv()"
   ]
  },
  {
   "cell_type": "markdown",
   "metadata": {},
   "source": [
    "#### 🧪 Analysis"
   ]
  },
  {
   "cell_type": "code",
   "execution_count": null,
   "metadata": {},
   "outputs": [],
   "source": [
    "# Specify the data path\n",
    "DATA_PATH = './0_Data/3_Permissions'\n",
    "\n",
    "# Read all JSON files in the DATA_PATH folder and store them in a dictionary\n",
    "locationDFs   = {}\n",
    "locationsList = []\n",
    "for fileName in os.listdir(DATA_PATH):\n",
    "\tif fileName.endswith('.json') and fileName.startswith('permissions_'):\n",
    "\t\tlocation = fileName.split('_')[1].split('.')[0]\n",
    "\t\tfilePath = os.path.join(DATA_PATH, fileName)\n",
    "\n",
    "\t\tlocationDFs[location] = pd.read_json(filePath)\n",
    "\t\tlocationsList.append(location)"
   ]
  },
  {
   "cell_type": "code",
   "execution_count": null,
   "metadata": {},
   "outputs": [],
   "source": [
    "for location, df in locationDFs.items():\n",
    "\tprint(\"--- 📍 {:<14}: {:<5} \".format(location, df.shape[0]))"
   ]
  },
  {
   "cell_type": "markdown",
   "metadata": {},
   "source": [
    "Load Permissions with levels"
   ]
  },
  {
   "cell_type": "code",
   "execution_count": null,
   "metadata": {},
   "outputs": [],
   "source": [
    "# File with all the permissions\n",
    "PERMISSION_LIST_PATH = \"./0_Data/androidPermissions.csv\"\n",
    "\n",
    "# Read the CSV file into a DataFrame\n",
    "permissionDF = pd.read_csv(PERMISSION_LIST_PATH)\n",
    "permissionDF.head(3)\n",
    "\n",
    "# Get the list of all dangerous permissions\n",
    "dangerousPermissionsList = permissionDF[permissionDF['protectionLevel'].fillna('').str.contains('dangerous')]['constantValue'].tolist()\n",
    "\n",
    "print(\"--- #️⃣ Number of dangerous permissions:\", len(dangerousPermissionsList))\n",
    "for perm in dangerousPermissionsList:\n",
    "\tprint(perm)"
   ]
  },
  {
   "cell_type": "markdown",
   "metadata": {},
   "source": [
    "Stats"
   ]
  },
  {
   "cell_type": "code",
   "execution_count": null,
   "metadata": {},
   "outputs": [],
   "source": [
    "for location, df in locationDFs.items():\n",
    "    print(\"\\n--- 📍 Location: {:<14}\".format(location))\n",
    "    \n",
    "    # Compute basic metrics\n",
    "    df['permissionCount'] = df['permissions'].apply(len)\n",
    "    avgPermLen = df['permissionCount'].mean()\n",
    "    print(\"--- 🔹 Avg # permissions                                : {:.2f}\".format(avgPermLen))\n",
    "    \n",
    "    # Filter for dangerous permissions\n",
    "    df['dangerousPermission'] = df['permissions'].apply(\n",
    "        lambda perms: [p for p in perms if p in dangerousPermissionsList]\n",
    "    )\n",
    "    df['dangerousCount'] = df['dangerousPermission'].apply(len)\n",
    "    \n",
    "    # Compute % dangerous\n",
    "    df['dangerousPercent'] = df.apply(\n",
    "        lambda row: (row['dangerousCount'] / row['permissionCount'] * 100) if row['permissionCount'] > 0 else 0,\n",
    "        axis=1\n",
    "    )\n",
    "    \n",
    "    # Average dangerous permissions\n",
    "    avgDangerousPerm = df['dangerousCount'].mean()\n",
    "    print(\"--- 🔸 Avg # dangerous permissions                      : {:.2f}\".format(avgDangerousPerm))\n",
    "    \n",
    "    avgDangerousPercent = df['dangerousPercent'].mean()\n",
    "    print(\"--- 🔸 Avg % dangerous permissions                      : {:.2f}%\".format(avgDangerousPercent))\n",
    "    \n",
    "    # Median dangerous %\n",
    "    medianDangerousPercent = df['dangerousPercent'].median()\n",
    "    print(\"--- 🔸 Median % dangerous permissions                   : {:.2f}%\".format(medianDangerousPercent))\n",
    "    \n",
    "    # Std deviation of dangerous %\n",
    "    stdDangerousPercent = df['dangerousPercent'].std()\n",
    "    print(\"--- 🔸 Std dev of % dangerous permissions               : {:.2f}%\".format(stdDangerousPercent))\n",
    "    \n",
    "    # Apps with at least 1 dangerous permission\n",
    "    numAppsWithDangerous = (df['dangerousCount'] > 0).sum()\n",
    "    print(\"--- 🔸 # apps with at least one dangerous permission    : {}\".format(numAppsWithDangerous))\n",
    "    \n",
    "    # Top 5 dangerous permissions\n",
    "    allDangerousPerms = df['dangerousPermission'].sum()\n",
    "    commonDangerousPerms = Counter(allDangerousPerms).most_common(5)\n",
    "    print(\"--- 🔸 Top dangerous permissions:\")\n",
    "    for perm, count in commonDangerousPerms:\n",
    "        print(\"      - {} ({})\".format(perm, count))\n",
    "    \n",
    "    # Outlier apps (dangerous% > 50)\n",
    "    numOutliers = (df['dangerousPercent'] > 50).sum()\n",
    "    print(\"--- ⚠️ Apps with >50% dangerous permissions             : {}\".format(numOutliers))\n"
   ]
  },
  {
   "cell_type": "markdown",
   "metadata": {},
   "source": [
    "#### Plots"
   ]
  },
  {
   "cell_type": "code",
   "execution_count": null,
   "metadata": {},
   "outputs": [],
   "source": [
    "# Where to store Plots\n",
    "PLOTS_PATH = './0_Data/Plots/'\n",
    "\n",
    "# Random seed\n",
    "RANDOM_SEED = 777\n",
    "\n",
    "# COLORS\n",
    "COLORS  = [\"#89CFFD\", '#FF8282', '#C084FC', '#FFE066', '#90C67C','#FFB347', '#60B5FF']\n",
    "\n",
    "# Size\n",
    "SMALL_SIZE  = 16\n",
    "MEDIUM_SIZE = 18\n",
    "LARGE_SIZE  = 20\n",
    "\n",
    "# Dot size\n",
    "DOT_SIZE = 60\n",
    "#DOT_SIZE = 30\n",
    "\n",
    "# NEW CUSTOM CMAP\n",
    "CUSTOM_CMAP   = mcolors.ListedColormap([\"#006837\", \"#1a9850\", \"#66bd63\", \"#a6d96a\", \"#d9ef8b\", \"#fee08b\", \"#fdae61\", \"#f46d43\", \"#d73027\", \"#a50026\"])\n",
    "CUSTOM_CMAP_R = mcolors.ListedColormap(CUSTOM_CMAP.colors[::-1])\n",
    "\n",
    "CUSTOM_CMAP_GRADIENT   = mcolors.LinearSegmentedColormap.from_list(\"CUSTOM_CMAP_GRADIENT\", CUSTOM_CMAP.colors)\n",
    "CUSTOM_CMAP_GRADIENT_R = mcolors.LinearSegmentedColormap.from_list(\"CUSTOM_CMAP_R_GRADIENT\", CUSTOM_CMAP_R.colors)"
   ]
  },
  {
   "cell_type": "markdown",
   "metadata": {},
   "source": [
    "Dangerous Permissions Delta"
   ]
  },
  {
   "cell_type": "code",
   "execution_count": null,
   "metadata": {},
   "outputs": [],
   "source": [
    "# 1. Combine all data for overall baseline (counts)\n",
    "allApps = pd.concat(locationDFs.values(), ignore_index=True)\n",
    "overallAvgDangerous = allApps['dangerousCount'].mean()\n",
    "overallAvgPermissions = allApps['permissionCount'].mean()\n",
    "print(\"Overall avg # dangerous permissions: {:.2f}\".format(overallAvgDangerous))\n",
    "print(\"Overall avg # total permissions: {:.2f}\".format(overallAvgPermissions))\n",
    "\n",
    "# 2. Compute avg counts per location\n",
    "locationAvgsDangerous   = {}\n",
    "locationAvgsPermissions = {}\n",
    "\n",
    "for location, df in locationDFs.items():\n",
    "    locationAvgsDangerous[location] = df['dangerousCount'].mean()\n",
    "    locationAvgsPermissions[location] = df['permissionCount'].mean()\n",
    "\n",
    "# 3. Create DataFrame with differences\n",
    "dfDangerous = pd.DataFrame.from_dict(locationAvgsDangerous, orient='index', columns=['avgCount'])\n",
    "dfDangerous['location'] = dfDangerous.index\n",
    "dfDangerous['metric'] = 'Dangerous Permissions'\n",
    "dfDangerous['diffFromOverall'] = dfDangerous['avgCount'] - overallAvgDangerous\n",
    "\n",
    "dfPermissions = pd.DataFrame.from_dict(locationAvgsPermissions, orient='index', columns=['avgCount'])\n",
    "dfPermissions['location'] = dfPermissions.index\n",
    "dfPermissions['metric'] = 'Total Permissions'\n",
    "dfPermissions['diffFromOverall'] = dfPermissions['avgCount'] - overallAvgPermissions\n",
    "\n",
    "\n",
    "# Combine\n",
    "dfPlot = pd.concat([dfDangerous, dfPermissions], ignore_index=True)\n",
    "\n",
    "# 4. Sort locations by dangerous difference for consistent ordering\n",
    "order = dfDangerous.sort_values('diffFromOverall')['location']"
   ]
  },
  {
   "cell_type": "code",
   "execution_count": null,
   "metadata": {},
   "outputs": [],
   "source": [
    "# 1. Define color categories based on diff and metric\n",
    "def getColorGroup(row):\n",
    "    if row['metric'] == 'Dangerous Permissions':\n",
    "        return 'Dangerous (+)' if row['diffFromOverall'] > 0 else 'Dangerous (-)'\n",
    "    else:\n",
    "        return 'Total (+)' if row['diffFromOverall'] > 0 else 'Total (-)'\n",
    "\n",
    "dfPlot['colorGroup'] = dfPlot.apply(getColorGroup, axis=1)\n",
    "\n",
    "# 2. Define a custom color palette (inverted: greens <-> reds)\n",
    "customPalette = {\n",
    "    'Total (+)'     : '#FF8282',   # was green, now red\n",
    "    'Total (-)'     : '#90C67C',   # was red, now green\n",
    "    'Dangerous (+)' : '#AF3E3E',   # was green, now red\n",
    "    'Dangerous (-)' : '#537D5D'    # was red, now green\n",
    "}\n",
    "\n",
    "# 3. Sort again if needed\n",
    "order = dfDangerous.sort_values('diffFromOverall')['location'].tolist()\n",
    "\n",
    "# 4. Plot\n",
    "plt.figure(figsize=(10, 8))\n",
    "sns.barplot(\n",
    "    data=dfPlot,\n",
    "    x='diffFromOverall',\n",
    "    y='location',\n",
    "    hue='colorGroup',\n",
    "    order=order,\n",
    "    palette=customPalette\n",
    ")\n",
    "\n",
    "\n",
    "plt.axvline(0, color='black', linewidth=1, linestyle='--')\n",
    "\n",
    "plt.xlim(-5, 5)\n",
    "plt.xticks(ticks=range(-5, 6, 1), fontsize = SMALL_SIZE)\n",
    "plt.yticks(fontsize = SMALL_SIZE)\n",
    "\n",
    "plt.grid(axis='x', linestyle='--', alpha=0.6)\n",
    "\n",
    "plt.xlabel('Difference from Overall Average', fontsize=MEDIUM_SIZE)\n",
    "plt.ylabel('Location', fontsize=MEDIUM_SIZE)\n",
    "\n",
    "# Place legend outside the plot at the bottom center with 4 columns\n",
    "plt.legend(\n",
    "    title='Permission Type & Direction',\n",
    "    fontsize=MEDIUM_SIZE,\n",
    "    title_fontsize=MEDIUM_SIZE,\n",
    "    loc='lower center',\n",
    "    bbox_to_anchor=(0.5, -0.35),\n",
    "    ncol=2,\n",
    ")\n",
    "\n",
    "# Save the figure to PDF and PNG\n",
    "plt.savefig(os.path.join(PLOTS_PATH, \"rq2_permissionsDelta.pdf\"), format=\"pdf\", bbox_inches=\"tight\")\n",
    "plt.savefig(os.path.join(PLOTS_PATH, \"rq2_permissionsDelta.png\"), format=\"png\", dpi=300, bbox_inches=\"tight\")\n",
    "\n",
    "plt.tight_layout()\n",
    "plt.show()"
   ]
  },
  {
   "cell_type": "markdown",
   "metadata": {},
   "source": [
    "Jaccard Index for Dangerous Permissions"
   ]
  },
  {
   "cell_type": "code",
   "execution_count": null,
   "metadata": {},
   "outputs": [],
   "source": [
    "# Collect sets of dangerous permissions per location\n",
    "location_perms = {}\n",
    "for location, df in locationDFs.items():\n",
    "    perms = {p for perms in df['dangerousPermission'] for p in perms}\n",
    "    location_perms[location] = perms\n",
    "    \n",
    "# Reuse the location_perms dictionary\n",
    "locations = list(location_perms.keys())\n",
    "similarityMatrix = pd.DataFrame(index=locations, columns=locations)\n",
    "\n",
    "for loc1 in locations:\n",
    "    for loc2 in locations:\n",
    "        set1, set2 = location_perms[loc1], location_perms[loc2]\n",
    "        intersection = len(set1 & set2)\n",
    "        union = len(set1 | set2)\n",
    "        similarity = intersection / union if union else 0\n",
    "        similarityMatrix.loc[loc1, loc2] = similarity\n",
    "\n",
    "# Convert to float type and scale to 0-100\n",
    "similarityMatrix = similarityMatrix.astype(float) * 100\n",
    "\n",
    "# Plot\n",
    "plt.figure(figsize=(8, 6))\n",
    "sns.heatmap(similarityMatrix, annot=True, cmap=CUSTOM_CMAP_GRADIENT_R, square=True, fmt=\".2f\", vmin=50, vmax=100, cbar_kws={'label': 'Jaccard Similarity (%)'})\n",
    "plt.title(\"Jaccard Similarity of Dangerous Permissions Between Locations\")\n",
    "plt.tight_layout()\n",
    "plt.show()\n"
   ]
  },
  {
   "cell_type": "markdown",
   "metadata": {},
   "source": [
    "##### 🔚 End"
   ]
  },
  {
   "cell_type": "code",
   "execution_count": null,
   "metadata": {},
   "outputs": [],
   "source": [
    "endTime = datetime.datetime.now()\n",
    "print(\"\\n🔚 --- END:  {} --- 🔚\".format(endTime.strftime(\"%Y-%m-%d %H:%M:%S\")))\n",
    "\n",
    "# Assuming endTime and initTime are datetime objects\n",
    "totalTime = endTime - initTime\n",
    "hours     = totalTime.total_seconds() // 3600\n",
    "minutes   = (totalTime.total_seconds() % 3600) // 60\n",
    "seconds   = totalTime.total_seconds() % 60\n",
    "print(\"⏱️ --- Time: {:02d} hours and {:02d} minutes [{:02d} seconds] --- ⏱️\".format(int(hours), int(minutes), int(totalTime.total_seconds())))"
   ]
  }
 ],
 "metadata": {
  "kernelspec": {
   "display_name": "marcoEnv",
   "language": "python",
   "name": "python3"
  },
  "language_info": {
   "codemirror_mode": {
    "name": "ipython",
    "version": 3
   },
   "file_extension": ".py",
   "mimetype": "text/x-python",
   "name": "python",
   "nbconvert_exporter": "python",
   "pygments_lexer": "ipython3",
   "version": "3.9.20"
  }
 },
 "nbformat": 4,
 "nbformat_minor": 2
}
