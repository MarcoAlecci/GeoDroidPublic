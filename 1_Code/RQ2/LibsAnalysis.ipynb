{
 "cells": [
  {
   "cell_type": "markdown",
   "metadata": {},
   "source": [
    "## 🧪 RQ2: Third-Party Libs Analysis"
   ]
  },
  {
   "cell_type": "code",
   "execution_count": null,
   "metadata": {},
   "outputs": [],
   "source": [
    "# Imports\n",
    "from   dotenv     \t\t\timport load_dotenv\n",
    "import matplotlib.pyplot \tas plt\n",
    "import matplotlib.colors   \tas mcolors\n",
    "import seaborn \t\t\t\tas sns\n",
    "import pandas    \t\t\tas pd\n",
    "import datetime\n",
    "import json\n",
    "import os"
   ]
  },
  {
   "cell_type": "markdown",
   "metadata": {},
   "source": [
    "##### Parameters"
   ]
  },
  {
   "cell_type": "code",
   "execution_count": null,
   "metadata": {},
   "outputs": [],
   "source": [
    "TMP_PATH = \"../../0_Data/TMP/\""
   ]
  },
  {
   "cell_type": "markdown",
   "metadata": {},
   "source": [
    "#### Initialization"
   ]
  },
  {
   "cell_type": "code",
   "execution_count": null,
   "metadata": {},
   "outputs": [],
   "source": [
    "print(\"⚡ START: {} ⚡\".format(datetime.datetime.now().strftime(\"%Y-%m-%d %H:%M:%S\")))\n",
    "initTime = datetime.datetime.now()"
   ]
  },
  {
   "cell_type": "code",
   "execution_count": null,
   "metadata": {},
   "outputs": [],
   "source": [
    "# Create TMP Folder\n",
    "if not os.path.exists(TMP_PATH):\n",
    "\tos.makedirs(TMP_PATH)\n",
    "\tprint(\"--- 📁🆕 Folder created       : {}\\n\".format(TMP_PATH))\n",
    "else:\n",
    "\tprint(\"--- 📁✅ Folder already exists: {}\\n\".format(TMP_PATH))"
   ]
  },
  {
   "cell_type": "code",
   "execution_count": null,
   "metadata": {},
   "outputs": [],
   "source": [
    "# Load .env Info\n",
    "load_dotenv()"
   ]
  },
  {
   "cell_type": "markdown",
   "metadata": {},
   "source": [
    "#### 📥 1) Load Data"
   ]
  },
  {
   "cell_type": "code",
   "execution_count": null,
   "metadata": {},
   "outputs": [],
   "source": [
    "# Specify the data path\n",
    "DATA_PATH = \"./0_Data/2_Libs\"\n",
    "\n",
    "# Read all JSON files in the DATA_PATH folder and store them in a dictionary\n",
    "locationDFs   = {}\n",
    "locationsList = []\n",
    "for fileName in os.listdir(DATA_PATH):\n",
    "\tif fileName.startswith('libs_'):\n",
    "\t\tlocation = fileName.split('_')[1]\n",
    "\t\tfilePath = os.path.join(DATA_PATH, fileName)\n",
    "\n",
    "\t\t# Load JSON data\n",
    "\t\twith open(filePath, 'r') as f:\n",
    "\t\t\tdata = json.load(f)\n",
    "\n",
    "\t\t# Create DataFrame and ensure 'libs' column is present\n",
    "\t\tdf = pd.DataFrame(data)\n",
    "\n",
    "\t\tlocationDFs[location] = df\n",
    "\t\tlocationsList.append(location)"
   ]
  },
  {
   "cell_type": "code",
   "execution_count": null,
   "metadata": {},
   "outputs": [],
   "source": [
    "for location, df in locationDFs.items():\n",
    "\tprint(\"--- 📍 {:<18}: {:<5} Unique Pkg Names\".format(location, df.shape[0]))"
   ]
  },
  {
   "cell_type": "markdown",
   "metadata": {},
   "source": [
    "Create Matrix [Lib]x[Location] with normalized usage"
   ]
  },
  {
   "cell_type": "code",
   "execution_count": null,
   "metadata": {},
   "outputs": [],
   "source": [
    "# Create a set of all unique libraries across all locations\n",
    "allLibs = set()\n",
    "for dfLoc in locationDFs.values():\n",
    "\tfor libs in dfLoc['libs']:\n",
    "\t\tallLibs.update(libs)\n",
    "allLibs = sorted(allLibs)\n",
    "\n",
    "# Initialize the result DataFrame\n",
    "dataDF = pd.DataFrame({'library': allLibs})\n",
    "\n",
    "# For each location, calculate normalized usage for each library\n",
    "for loc in locationsList:\n",
    "\tdfLoc = locationDFs[loc]\n",
    "\tlibCounts = dfLoc['libs'].explode().value_counts()\n",
    "\ttotalApps = len(dfLoc)\n",
    "\t# Normalized usage: number of apps using the lib / total number of apps in location\n",
    "\tnormUsage = dataDF['library'].map(lambda lib: libCounts.get(lib, 0) / totalApps)\n",
    "\tdataDF[loc.replace('.json', '')] = normUsage\n",
    "\n",
    "# Calculate normalized usage for each library across all locations (overall)\n",
    "overallLibCounts = pd.Series(0, index=allLibs)\n",
    "totalAppsOverall = 0\n",
    "for dfLoc in locationDFs.values():\n",
    "\toverallLibCounts = overallLibCounts.add(dfLoc['libs'].explode().value_counts(), fill_value=0)\n",
    "\ttotalAppsOverall += len(dfLoc)\n",
    "dataDF['overallUsage'] = dataDF['library'].map(lambda lib: round(overallLibCounts.get(lib, 0) / totalAppsOverall, 2))\n",
    "\n",
    "# Move 'overallUsage' to the second column\n",
    "cols   = dataDF.columns.tolist()\n",
    "cols.insert(1, cols.pop(cols.index('overallUsage')))\n",
    "dataDF = dataDF[cols]\n",
    "\n",
    "# Sort by overallUsage\n",
    "dataDF = dataDF.sort_values(by='overallUsage', ascending=False).reset_index(drop=True)\n",
    "\n",
    "dataDF.head()"
   ]
  },
  {
   "cell_type": "markdown",
   "metadata": {},
   "source": [
    "### 3] Plots"
   ]
  },
  {
   "cell_type": "code",
   "execution_count": null,
   "metadata": {},
   "outputs": [],
   "source": [
    "# Where to store Plots\n",
    "PLOTS_PATH = './0_Data/Plots/'\n",
    "\n",
    "# Random seed\n",
    "RANDOM_SEED = 777\n",
    "\n",
    "# COLORS\n",
    "COLORS  = [\"#89CFFD\", '#FF8282', '#C084FC', '#FFE066', '#90C67C','#FFB347', '#60B5FF']\n",
    "\n",
    "# Parameters\n",
    "SMALL_SIZE  = 16\n",
    "MEDIUM_SIZE = 18\n",
    "LARGE_SIZE  = 20\n",
    "\n",
    "# Dot size\n",
    "DOT_SIZE = 60\n",
    "#DOT_SIZE = 30"
   ]
  },
  {
   "cell_type": "code",
   "execution_count": null,
   "metadata": {},
   "outputs": [],
   "source": [
    "# NEW CUSTOM CMAP\n",
    "CUSTOM_CMAP   = mcolors.ListedColormap([\"#006837\", \"#1a9850\", \"#66bd63\", \"#a6d96a\", \"#d9ef8b\", \"#fee08b\", \"#fdae61\", \"#f46d43\", \"#d73027\", \"#a50026\"])\n",
    "CUSTOM_CMAP_R = mcolors.ListedColormap(CUSTOM_CMAP.colors[::-1])\n",
    "\n",
    "CUSTOM_CMAP_GRADIENT   = mcolors.LinearSegmentedColormap.from_list(\"CUSTOM_CMAP_GRADIENT\", CUSTOM_CMAP.colors)\n",
    "CUSTOM_CMAP_GRADIENT_R = mcolors.LinearSegmentedColormap.from_list(\"CUSTOM_CMAP_R_GRADIENT\", CUSTOM_CMAP_R.colors)"
   ]
  },
  {
   "cell_type": "code",
   "execution_count": null,
   "metadata": {},
   "outputs": [],
   "source": [
    "# Select top 30 libraries by overallUsage\n",
    "top30 = dataDF.head(30).copy()\n",
    "\n",
    "# Extract only location columns (excluding 'library' and 'overallUsage')\n",
    "locationCols = [col for col in top30.columns if col not in ['library', 'overallUsage']]\n",
    "\n",
    "# Compute difference matrix: location usage - overall usage\n",
    "diffMatrix = top30[locationCols].subtract(top30['overallUsage'], axis=0)\n",
    "\n",
    "# Format y-axis labels to include overallUsage\n",
    "top30['label_with_usage'] = top30.apply(lambda row: f\"{row['library']} [{row['overallUsage']:.2f}]\", axis=1)\n",
    "diffMatrix.index = top30['label_with_usage']\n",
    "\n",
    "plt.figure(figsize=(8, max(6, len(diffMatrix) * 0.25)))\n",
    "ax = sns.heatmap(diffMatrix, cmap=CUSTOM_CMAP_GRADIENT_R, center=0, annot=False, linewidths=0.5, cbar_kws={'label': 'Usage Delta'})\n",
    "\n",
    "plt.xlabel('Location', fontsize=SMALL_SIZE)\n",
    "plt.ylabel('Library [Overall Usage]', fontsize=SMALL_SIZE)\n",
    "\n",
    "plt.xticks(fontsize=13, rotation=90)\n",
    "plt.yticks(fontsize=13)\n",
    "\n",
    "# Set color limits on the heatmap\n",
    "ax.collections[0].set_clim(-0.3, 0.3)\n",
    "cbar = ax.collections[0].colorbar\n",
    "cbar.set_label('Usage Delta', fontsize=SMALL_SIZE)\n",
    "cbar.ax.tick_params(labelsize=SMALL_SIZE)\n",
    "\n",
    "# Save the figure to PDF and PNG\n",
    "plt.savefig(os.path.join(PLOTS_PATH, \"rq2_libsHetamap.pdf\"), format=\"pdf\", bbox_inches=\"tight\")\n",
    "plt.savefig(os.path.join(PLOTS_PATH, \"rq2_libsHetamap.png\"), format=\"png\", dpi=300, bbox_inches=\"tight\")\n",
    "\n",
    "plt.tight_layout()\n",
    "plt.show()"
   ]
  },
  {
   "cell_type": "markdown",
   "metadata": {},
   "source": [
    "##### 🔚 End"
   ]
  },
  {
   "cell_type": "code",
   "execution_count": null,
   "metadata": {},
   "outputs": [],
   "source": [
    "endTime = datetime.datetime.now()\n",
    "print(\"\\n🔚 --- END:  {} --- 🔚\".format(endTime.strftime(\"%Y-%m-%d %H:%M:%S\")))\n",
    "\n",
    "# Assuming endTime and initTime are datetime objects\n",
    "totalTime = endTime - initTime\n",
    "hours     = totalTime.total_seconds() // 3600\n",
    "minutes   = (totalTime.total_seconds() % 3600) // 60\n",
    "seconds   = totalTime.total_seconds() % 60\n",
    "print(\"⏱️ --- Time: {:02d} hours and {:02d} minutes [{:02d} seconds] --- ⏱️\".format(int(hours), int(minutes), int(totalTime.total_seconds())))"
   ]
  }
 ],
 "metadata": {
  "kernelspec": {
   "display_name": "marcoEnv",
   "language": "python",
   "name": "python3"
  },
  "language_info": {
   "codemirror_mode": {
    "name": "ipython",
    "version": 3
   },
   "file_extension": ".py",
   "mimetype": "text/x-python",
   "name": "python",
   "nbconvert_exporter": "python",
   "pygments_lexer": "ipython3",
   "version": "3.11.3"
  }
 },
 "nbformat": 4,
 "nbformat_minor": 2
}
